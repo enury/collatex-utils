{
 "cells": [
  {
   "cell_type": "markdown",
   "id": "ee7dcd29-b425-4c91-a181-440f34845335",
   "metadata": {},
   "source": [
    "# Africa Collation test\n",
    "\n",
    "## Test data\n",
    "\n",
    "I have added the exact folios for Bod47, and the first folio for G1 O1 followed by a random folio for test purposes.\n",
    "\n",
    "### Format for folio\n",
    "a line containing \"FOLIO xx yyy\" where xx = folio/page number, and yyy = url. If one is missing it will cause an error.\n",
    "\n",
    "### Format for linebreak\n",
    "Nothing to add, the end of line is read by python in the file.\n",
    "\n",
    "\n",
    "## Conventions in JSON\n",
    "\n",
    "What property to add, and how to call them? Here I have folio_no, folio_url, linebreak.\n",
    "\n",
    "Folio and line can be either a property, or both a token and a property. so there are four options:\n",
    "- folio (number, url) and lines (endline true/false) only property of all tokens\n",
    "- folio token, line property\n",
    "- folio property, line token\n",
    "- folio/line both tokens\n",
    "\n",
    "### normalisation\n",
    "I have only added lower case normalisation. We could also add rules for punctuation marks"
   ]
  },
  {
   "cell_type": "code",
   "execution_count": 2,
   "id": "a785d734-613e-4be1-a37a-9573d8bbf0e4",
   "metadata": {
    "tags": []
   },
   "outputs": [],
   "source": [
    "import json\n",
    "import os\n",
    "\n",
    "\n",
    "# list of paths to textfiles\n",
    "#TODO: choice between paths, or all files in aa directory\n",
    "textfiles = [\"data/Bod47.txt\", \"data/O1.txt\", \"data/G1.txt\"]\n",
    "\n",
    "# converts plain text to json input for CollateX\n",
    "# folio/linebreak can be either property only (False, by default) \n",
    "# or token and property (True)\n",
    "def collatex_text_to_json(textfiles, token_folio=False, token_linebreak=False):\n",
    "    \n",
    "    # witnesses list\n",
    "    listwit = []\n",
    "    \n",
    "    \n",
    "    # for each file in textfiles\n",
    "    for path in textfiles:\n",
    "        \n",
    "        # witness dict\n",
    "        wit = {}\n",
    "        \n",
    "        # get filename\n",
    "        filename = os.path.basename(path)\n",
    "        \n",
    "        # witness identifier (siglum)\n",
    "        witness_id = os.path.splitext(filename)[0]\n",
    "        \n",
    "        # set witness id\n",
    "        wit['id'] = witness_id\n",
    "        \n",
    "        # list of witness tokens\n",
    "        wit['tokens'] = []\n",
    "        \n",
    "        # open file\n",
    "        with open(path, 'r', encoding='utf-8') as file:\n",
    "            \n",
    "            # folio value\n",
    "            folio_no = ''\n",
    "            folio_url = ''\n",
    "            newfolio = False\n",
    "            \n",
    "            # read line by line\n",
    "            for line in file:\n",
    "                \n",
    "                # if folio line\n",
    "                if line.startswith('FOLIO'):\n",
    "                    \n",
    "                    # update folio number and url\n",
    "                    FOLIO, folio_no, folio_url = line.split(' ')\n",
    "                    newfolio = True\n",
    "                    \n",
    "                    # if the folio should be a token\n",
    "                    if token_folio:\n",
    "                        \n",
    "                        # create token\n",
    "                        t = {'t': FOLIO, 'n': FOLIO, 'folio_no':folio_no, 'folio_url':folio_url, 'newfolio': newfolio}\n",
    "                        \n",
    "                        # append token to the list\n",
    "                        wit['tokens'].append(t)\n",
    "                \n",
    "                else:\n",
    "                    \n",
    "                    # separate words at whitespace\n",
    "                    listwords = line.split(' ')\n",
    "                    \n",
    "                    # for each word\n",
    "                    for word in listwords:\n",
    "                         \n",
    "                        # remove endline\n",
    "                        token = word.split('\\n')\n",
    "                        \n",
    "                        # normalisation. Here lowercase. (also possible to add rules for punctuation marks)\n",
    "                        n = token[0].lower()\n",
    "                        \n",
    "                        # create a token\n",
    "                        t = {'t': token[0], 'n': n, 'folio_no':folio_no, 'folio_url':folio_url, 'endline':False if len(token) == 1 else True, 'newfolio': newfolio}\n",
    "                        \n",
    "                        # append token to the list\n",
    "                        wit['tokens'].append(t)\n",
    "                        \n",
    "                        # we are not anymore at the start of a new folio\n",
    "                        newfolio = False\n",
    "                        \n",
    "                    # if endline is a token\n",
    "                    if token_linebreak:\n",
    "                        t = {'t': 'LINE', 'n': '\\n', 'folio_no':folio_no, 'folio_url':folio_url, 'endline':True, 'newfolio': newfolio}\n",
    "                        wit['tokens'].append(t)\n",
    "        \n",
    "    \n",
    "    \n",
    "        # add to witnesses list\n",
    "        listwit.append(wit)\n",
    "    \n",
    "    # return output as json\n",
    "    json_witnesses = {'witnesses': listwit}\n",
    "    return json_witnesses"
   ]
  },
  {
   "cell_type": "code",
   "execution_count": 3,
   "id": "88e56c5f-91f7-4897-b035-cb59e24a2f01",
   "metadata": {
    "tags": []
   },
   "outputs": [],
   "source": [
    "# first test: folio/lines are only properties\n",
    "test_json_input_1 = collatex_text_to_json(textfiles)\n",
    "#print(test_json_input)\n",
    "\n",
    "# second test: both folio/lines are tokens\n",
    "test_json_input_2 = collatex_text_to_json(textfiles, token_folio=True, token_linebreak=True)"
   ]
  },
  {
   "cell_type": "code",
   "execution_count": 4,
   "id": "8fdb0308-3ac4-4bfc-9b19-25d9cba30abf",
   "metadata": {
    "tags": []
   },
   "outputs": [],
   "source": [
    "from collatex import *\n",
    "\n",
    "result1 = collate(test_json_input_1, output='json', layout='vertical', segmentation=False)\n",
    "result2 = collate(test_json_input_2, output='json', layout='vertical', segmentation=False)"
   ]
  },
  {
   "cell_type": "code",
   "execution_count": 7,
   "id": "c8f32e44-59c2-46df-b325-81db2401522b",
   "metadata": {
    "tags": []
   },
   "outputs": [],
   "source": [
    "# special html table for Africa example, both folio/line token\n",
    "html_table = '<table style=\"border: 1px solid #000000; border-collapse: collapse;\" cellpadding=\"4\" border=\"1\"><tr>'\n",
    "\n",
    "witnesses = json.loads(result2)['witnesses']\n",
    "witrange = range(len(witnesses))\n",
    "\n",
    "for wit in witnesses:\n",
    "    html_table += '<th>'+wit+'</th>'\n",
    "html_table += '</tr>'\n",
    "\n",
    "for row in list(zip(*json.loads(result2)['table'])):\n",
    "    \n",
    "    html_table += '<tr>'\n",
    "    \n",
    "    # folio lines\n",
    "    \n",
    "    # it checks only the first token in the list \n",
    "    # (but we assume here only one token per cell because of the segmentation)\n",
    "    if any(row[i][0]['t'] == 'FOLIO' for i in witrange if row[i] is not None):\n",
    "        for cell in row:\n",
    "            string = '' if cell is None else '<a href=\"'+cell[0]['folio_url']+'\">f.'+cell[0]['folio_no']+'</a>'\n",
    "            html_table += '<td style=\"\">'+string+'</td>' if cell is None else '<td style=\"border-top:5px double;\">'+string+'</td>'\n",
    "    \n",
    "    # endlines\n",
    "    elif any(row[i][0]['t'] == 'LINE' for i in witrange if row[i] is not None):\n",
    "        for cell in row:\n",
    "            html_table += '<td style=\"background-color:gold;\"></td>'\n",
    "    \n",
    "    # others\n",
    "    else:\n",
    "        # set background color according to variation\n",
    "        # if there is an empty cell, there is a variation\n",
    "        if any(row[i] == None for i in witrange):\n",
    "            bgcolor = '#FF7F7'\n",
    "        # otherwise\n",
    "        else:\n",
    "            # list of token t values\n",
    "            t = [row[i][0]['t'] for i in witrange]\n",
    "            # if the list has more than one value, there is a variation\n",
    "            if len(set(t)) > 1:\n",
    "                bgcolor = '#FF7F7'\n",
    "            else:\n",
    "                bgcolor = ''\n",
    "        # create html cells\n",
    "        for cell in row:\n",
    "            string = '-' if cell is None else cell[0]['t']\n",
    "            html_table += '<td bgcolor=\"'+bgcolor+'\">'+string+'</td>'\n",
    "        html_table += '</tr>'\n",
    "\n",
    "html_table += '</table>'\n",
    "\n"
   ]
  },
  {
   "cell_type": "code",
   "execution_count": 8,
   "id": "61f6acba-3269-458d-bd31-40accd0f21f7",
   "metadata": {
    "tags": []
   },
   "outputs": [
    {
     "data": {
      "text/html": [
       "<table style=\"border: 1px solid #000000; border-collapse: collapse;\" cellpadding=\"4\" border=\"1\"><tr><th>Bod47</th><th>O1</th><th>G1</th></tr><tr><td style=\"border-top:5px double;\"><a href=\"https://www.e-codices.unifr.ch/fr/fmb/cb-0047/1r\n",
       "\">f.1r</a></td><td style=\"border-top:5px double;\"><a href=\"http://catullusonline.woodpecker.hu/uploads/O_1r_0008{48420_181}.jpg\n",
       "\">f.1r</a></td><td style=\"border-top:5px double;\"><a href=\"http://catullusonline.woodpecker.hu/uploads/G_1r_0006{48420_18}.jpg\n",
       "\">f.1r</a></td><tr><td bgcolor=\"#FF7F7\">-</td><td bgcolor=\"#FF7F7\">-</td><td bgcolor=\"#FF7F7\">fletus</td></tr><tr><td bgcolor=\"#FF7F7\">Passeris</td><td bgcolor=\"#FF7F7\">-</td><td bgcolor=\"#FF7F7\">passeris</td></tr><tr><td bgcolor=\"#FF7F7\">appelatio</td><td bgcolor=\"#FF7F7\">-</td><td bgcolor=\"#FF7F7\">lesbie</td></tr><tr><td style=\"background-color:gold;\"></td><td style=\"background-color:gold;\"></td><td style=\"background-color:gold;\"></td><tr><td bgcolor=\"\">Passer</td><td bgcolor=\"\">Passer</td><td bgcolor=\"\">Passer</td></tr><tr><td bgcolor=\"#FF7F7\">delitiae</td><td bgcolor=\"#FF7F7\">delicie</td><td bgcolor=\"#FF7F7\">delicie</td></tr><tr><td bgcolor=\"#FF7F7\">meae</td><td bgcolor=\"#FF7F7\">mee</td><td bgcolor=\"#FF7F7\">mee</td></tr><tr><td bgcolor=\"#FF7F7\">puellae</td><td bgcolor=\"#FF7F7\">puelle</td><td bgcolor=\"#FF7F7\">puelle</td></tr><tr><td style=\"background-color:gold;\"></td><td style=\"background-color:gold;\"></td><td style=\"background-color:gold;\"></td><tr><td bgcolor=\"\">Qui</td><td bgcolor=\"\">Qui</td><td bgcolor=\"\">Qui</td></tr><tr><td bgcolor=\"\">cum</td><td bgcolor=\"\">cum</td><td bgcolor=\"\">cum</td></tr><tr><td bgcolor=\"\">ludere</td><td bgcolor=\"\">ludere</td><td bgcolor=\"\">ludere</td></tr><tr><td bgcolor=\"\">quem</td><td bgcolor=\"\">quem</td><td bgcolor=\"\">quem</td></tr><tr><td bgcolor=\"\">in</td><td bgcolor=\"\">in</td><td bgcolor=\"\">in</td></tr><tr><td bgcolor=\"\">sinu</td><td bgcolor=\"\">sinu</td><td bgcolor=\"\">sinu</td></tr><tr><td bgcolor=\"\">tenere</td><td bgcolor=\"\">tenere</td><td bgcolor=\"\">tenere</td></tr><tr><td style=\"background-color:gold;\"></td><td style=\"background-color:gold;\"></td><td style=\"background-color:gold;\"></td><tr><td bgcolor=\"#FF7F7\">Quoi</td><td bgcolor=\"#FF7F7\">Qui</td><td bgcolor=\"#FF7F7\">Qui</td></tr><tr><td bgcolor=\"\">primum</td><td bgcolor=\"\">primum</td><td bgcolor=\"\">primum</td></tr><tr><td bgcolor=\"\">digitum</td><td bgcolor=\"\">digitum</td><td bgcolor=\"\">digitum</td></tr><tr><td bgcolor=\"\">dare</td><td bgcolor=\"\">dare</td><td bgcolor=\"\">dare</td></tr><tr><td bgcolor=\"#FF7F7\">appententi</td><td bgcolor=\"#FF7F7\">at</td><td bgcolor=\"#FF7F7\">at</td></tr><tr><td bgcolor=\"#FF7F7\">-</td><td bgcolor=\"#FF7F7\">petenti</td><td bgcolor=\"#FF7F7\">petenti</td></tr><tr><td style=\"background-color:gold;\"></td><td style=\"background-color:gold;\"></td><td style=\"background-color:gold;\"></td><tr><td bgcolor=\"#FF7F7\">Atque</td><td bgcolor=\"#FF7F7\">Ea</td><td bgcolor=\"#FF7F7\">Et</td></tr><tr><td bgcolor=\"\">acris</td><td bgcolor=\"\">acris</td><td bgcolor=\"\">acris</td></tr><tr><td bgcolor=\"\">solet</td><td bgcolor=\"\">solet</td><td bgcolor=\"\">solet</td></tr><tr><td bgcolor=\"\">incitare</td><td bgcolor=\"\">incitare</td><td bgcolor=\"\">incitare</td></tr><tr><td bgcolor=\"\">morsus</td><td bgcolor=\"\">morsus</td><td bgcolor=\"\">morsus</td></tr><tr><td style=\"background-color:gold;\"></td><td style=\"background-color:gold;\"></td><td style=\"background-color:gold;\"></td><tr><td style=\"border-top:5px double;\"><a href=\"https://www.e-codices.unifr.ch/fr/fmb/cb-0047/1v\n",
       "\">f.1v</a></td><td style=\"\"></td><td style=\"\"></td><tr><td bgcolor=\"\">Cum</td><td bgcolor=\"\">Cum</td><td bgcolor=\"\">Cum</td></tr><tr><td bgcolor=\"#FF7F7\">desyderio</td><td bgcolor=\"#FF7F7\">desiderio</td><td bgcolor=\"#FF7F7\">desiderio</td></tr><tr><td bgcolor=\"\">meo</td><td bgcolor=\"\">meo</td><td bgcolor=\"\">meo</td></tr><tr><td bgcolor=\"\">nitenti</td><td bgcolor=\"\">nitenti</td><td bgcolor=\"\">nitenti</td></tr><tr><td style=\"background-color:gold;\"></td><td style=\"background-color:gold;\"></td><td style=\"background-color:gold;\"></td><tr><td bgcolor=\"#FF7F7\">Charum</td><td bgcolor=\"#FF7F7\">Karum</td><td bgcolor=\"#FF7F7\">Carum</td></tr><tr><td bgcolor=\"\">nescio</td><td bgcolor=\"\">nescio</td><td bgcolor=\"\">nescio</td></tr><tr><td bgcolor=\"\">quid</td><td bgcolor=\"\">quid</td><td bgcolor=\"\">quid</td></tr><tr><td bgcolor=\"\">libet</td><td bgcolor=\"\">libet</td><td bgcolor=\"\">libet</td></tr><tr><td bgcolor=\"\">iocari</td><td bgcolor=\"\">iocari</td><td bgcolor=\"\">iocari</td></tr><tr><td style=\"background-color:gold;\"></td><td style=\"background-color:gold;\"></td><td style=\"background-color:gold;\"></td><tr><td bgcolor=\"#FF7F7\">Insolatiolum</td><td bgcolor=\"#FF7F7\">Et</td><td bgcolor=\"#FF7F7\">Et</td></tr><tr><td bgcolor=\"#FF7F7\">-</td><td bgcolor=\"#FF7F7\">solaciolum</td><td bgcolor=\"#FF7F7\">solaciolum</td></tr><tr><td bgcolor=\"\">sui</td><td bgcolor=\"\">sui</td><td bgcolor=\"\">sui</td></tr><tr><td bgcolor=\"\">doloris</td><td bgcolor=\"\">doloris</td><td bgcolor=\"\">doloris</td></tr><tr><td style=\"background-color:gold;\"></td><td style=\"background-color:gold;\"></td><td style=\"background-color:gold;\"></td><tr><td bgcolor=\"\">Credo</td><td bgcolor=\"\">Credo</td><td bgcolor=\"\">Credo</td></tr><tr><td bgcolor=\"\">ut</td><td bgcolor=\"\">ut</td><td bgcolor=\"\">ut</td></tr><tr><td bgcolor=\"#FF7F7\">quum</td><td bgcolor=\"#FF7F7\">cum</td><td bgcolor=\"#FF7F7\">cum</td></tr><tr><td bgcolor=\"\">gravis</td><td bgcolor=\"\">gravis</td><td bgcolor=\"\">gravis</td></tr><tr><td bgcolor=\"#FF7F7\">acquiescat</td><td bgcolor=\"#FF7F7\">acquiescet</td><td bgcolor=\"#FF7F7\">adquiescet</td></tr><tr><td bgcolor=\"\">ardor</td><td bgcolor=\"\">ardor</td><td bgcolor=\"\">ardor</td></tr><tr><td style=\"background-color:gold;\"></td><td style=\"background-color:gold;\"></td><td style=\"background-color:gold;\"></td><tr><td bgcolor=\"\">Tecum</td><td bgcolor=\"\">Tecum</td><td bgcolor=\"\">Tecum</td></tr><tr><td bgcolor=\"#FF7F7\">ludere</td><td bgcolor=\"#FF7F7\">luderem</td><td bgcolor=\"#FF7F7\">ludere</td></tr><tr><td bgcolor=\"\">sicut</td><td bgcolor=\"\">sicut</td><td bgcolor=\"\">sicut</td></tr><tr><td bgcolor=\"\">ipsa</td><td bgcolor=\"\">ipsa</td><td bgcolor=\"\">ipsa</td></tr><tr><td bgcolor=\"\">possem</td><td bgcolor=\"\">possem</td><td bgcolor=\"\">possem</td></tr><tr><td style=\"background-color:gold;\"></td><td style=\"background-color:gold;\"></td><td style=\"background-color:gold;\"></td><tr><td style=\"\"></td><td style=\"border-top:5px double;\"><a href=\"http://catullusonline.woodpecker.hu\n",
       "\">f.3r</a></td><td style=\"\"></td><tr><td bgcolor=\"\">Et</td><td bgcolor=\"\">Et</td><td bgcolor=\"\">Et</td></tr><tr><td bgcolor=\"\">tristis</td><td bgcolor=\"\">tristis</td><td bgcolor=\"\">tristis</td></tr><tr><td bgcolor=\"\">animi</td><td bgcolor=\"\">animi</td><td bgcolor=\"\">animi</td></tr><tr><td bgcolor=\"\">levare</td><td bgcolor=\"\">levare</td><td bgcolor=\"\">levare</td></tr><tr><td bgcolor=\"\">curas</td><td bgcolor=\"\">curas</td><td bgcolor=\"\">curas</td></tr><tr><td style=\"background-color:gold;\"></td><td style=\"background-color:gold;\"></td><td style=\"background-color:gold;\"></td><tr><td bgcolor=\"\">Tam</td><td bgcolor=\"\">Tam</td><td bgcolor=\"\">Tam</td></tr><tr><td bgcolor=\"\">gratum</td><td bgcolor=\"\">gratum</td><td bgcolor=\"\">gratum</td></tr><tr><td bgcolor=\"#FF7F7\">mihi</td><td bgcolor=\"#FF7F7\">est</td><td bgcolor=\"#FF7F7\">est</td></tr><tr><td bgcolor=\"#FF7F7\">-</td><td bgcolor=\"#FF7F7\">michi</td><td bgcolor=\"#FF7F7\">michi</td></tr><tr><td bgcolor=\"\">quam</td><td bgcolor=\"\">quam</td><td bgcolor=\"\">quam</td></tr><tr><td bgcolor=\"\">ferunt</td><td bgcolor=\"\">ferunt</td><td bgcolor=\"\">ferunt</td></tr><tr><td bgcolor=\"#FF7F7\">puellae</td><td bgcolor=\"#FF7F7\">puelle</td><td bgcolor=\"#FF7F7\">puelle</td></tr><tr><td style=\"background-color:gold;\"></td><td style=\"background-color:gold;\"></td><td style=\"background-color:gold;\"></td><tr><td bgcolor=\"\">Pernici</td><td bgcolor=\"\">Pernici</td><td bgcolor=\"\">Pernici</td></tr><tr><td bgcolor=\"\">aureolum</td><td bgcolor=\"\">aureolum</td><td bgcolor=\"\">aureolum</td></tr><tr><td bgcolor=\"\">fuisse</td><td bgcolor=\"\">fuisse</td><td bgcolor=\"\">fuisse</td></tr><tr><td bgcolor=\"\">malum</td><td bgcolor=\"\">malum</td><td bgcolor=\"\">malum</td></tr><tr><td style=\"background-color:gold;\"></td><td style=\"background-color:gold;\"></td><td style=\"background-color:gold;\"></td><tr><td style=\"\"></td><td style=\"\"></td><td style=\"border-top:5px double;\"><a href=\"http://catullusonline.woodpecker.hu\n",
       "\">f.2v</a></td><tr><td bgcolor=\"\">Quod</td><td bgcolor=\"\">Quod</td><td bgcolor=\"\">Quod</td></tr><tr><td bgcolor=\"#FF7F7\">zonam</td><td bgcolor=\"#FF7F7\">çonam</td><td bgcolor=\"#FF7F7\">çonam</td></tr><tr><td bgcolor=\"\">soluit</td><td bgcolor=\"\">soluit</td><td bgcolor=\"\">soluit</td></tr><tr><td bgcolor=\"\">diu</td><td bgcolor=\"\">diu</td><td bgcolor=\"\">diu</td></tr><tr><td bgcolor=\"#FF7F7\">ligatam</td><td bgcolor=\"#FF7F7\">negatam</td><td bgcolor=\"#FF7F7\">negatam</td></tr><tr><td style=\"background-color:gold;\"></td><td style=\"background-color:gold;\"></td><td style=\"background-color:gold;\"></td></table>"
      ],
      "text/plain": [
       "<IPython.core.display.HTML object>"
      ]
     },
     "execution_count": 8,
     "metadata": {},
     "output_type": "execute_result"
    }
   ],
   "source": [
    "from IPython.core.display import HTML\n",
    "HTML(html_table)"
   ]
  },
  {
   "cell_type": "code",
   "execution_count": 284,
   "id": "0db3ac4b-f69c-43c7-bea1-76dde85874df",
   "metadata": {
    "tags": []
   },
   "outputs": [],
   "source": [
    "# conversion of JSON for compatibility with pycoviz (remove FOLIO/LINE rows?)"
   ]
  }
 ],
 "metadata": {
  "kernelspec": {
   "display_name": "Python 3 (ipykernel)",
   "language": "python",
   "name": "python3"
  },
  "language_info": {
   "codemirror_mode": {
    "name": "ipython",
    "version": 3
   },
   "file_extension": ".py",
   "mimetype": "text/x-python",
   "name": "python",
   "nbconvert_exporter": "python",
   "pygments_lexer": "ipython3",
   "version": "3.10.9"
  }
 },
 "nbformat": 4,
 "nbformat_minor": 5
}
